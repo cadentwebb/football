{
 "cells": [
  {
   "cell_type": "code",
   "execution_count": 1,
   "metadata": {},
   "outputs": [],
   "source": [
    "import pandas as pd\n",
    "import numpy as np\n",
    "import matplotlib.pyplot as plt\n",
    "\n",
    "#libraries for classification\n",
    "from sklearn.model_selection import train_test_split, GridSearchCV\n",
    "from sklearn.ensemble import GradientBoostingClassifier, RandomForestClassifier\n",
    "from sklearn.naive_bayes import MultinomialNB\n",
    "from sklearn.metrics import confusion_matrix, f1_score, precision_score, recall_score, roc_auc_score, roc_curve, accuracy_score\n",
    "\n",
    "#Plot style\n",
    "plt.style.use('fivethirtyeight')\n",
    "#Plot sizing\n",
    "plt.rcParams[\"figure.figsize\"] = [15, 7.5]\n",
    "\n",
    "#change display option to view all columns\n",
    "pd.set_option('display.max_columns', None)"
   ]
  },
  {
   "cell_type": "code",
   "execution_count": 2,
   "metadata": {},
   "outputs": [
    {
     "data": {
      "text/html": [
       "<div>\n",
       "<style scoped>\n",
       "    .dataframe tbody tr th:only-of-type {\n",
       "        vertical-align: middle;\n",
       "    }\n",
       "\n",
       "    .dataframe tbody tr th {\n",
       "        vertical-align: top;\n",
       "    }\n",
       "\n",
       "    .dataframe thead th {\n",
       "        text-align: right;\n",
       "    }\n",
       "</style>\n",
       "<table border=\"1\" class=\"dataframe\">\n",
       "  <thead>\n",
       "    <tr style=\"text-align: right;\">\n",
       "      <th></th>\n",
       "      <th>classification</th>\n",
       "      <th>defendersInTheBox</th>\n",
       "      <th>DL</th>\n",
       "      <th>LB</th>\n",
       "      <th>DB</th>\n",
       "      <th>quarter</th>\n",
       "      <th>down.x</th>\n",
       "      <th>yardsToGo</th>\n",
       "      <th>yardline_100</th>\n",
       "    </tr>\n",
       "  </thead>\n",
       "  <tbody>\n",
       "    <tr>\n",
       "      <th>0</th>\n",
       "      <td>pass short right</td>\n",
       "      <td>6</td>\n",
       "      <td>4</td>\n",
       "      <td>2</td>\n",
       "      <td>5</td>\n",
       "      <td>1</td>\n",
       "      <td>1</td>\n",
       "      <td>10</td>\n",
       "      <td>77</td>\n",
       "    </tr>\n",
       "    <tr>\n",
       "      <th>1</th>\n",
       "      <td>run middle</td>\n",
       "      <td>6</td>\n",
       "      <td>4</td>\n",
       "      <td>2</td>\n",
       "      <td>5</td>\n",
       "      <td>1</td>\n",
       "      <td>2</td>\n",
       "      <td>6</td>\n",
       "      <td>73</td>\n",
       "    </tr>\n",
       "    <tr>\n",
       "      <th>2</th>\n",
       "      <td>pass short middle</td>\n",
       "      <td>5</td>\n",
       "      <td>4</td>\n",
       "      <td>1</td>\n",
       "      <td>6</td>\n",
       "      <td>1</td>\n",
       "      <td>3</td>\n",
       "      <td>4</td>\n",
       "      <td>71</td>\n",
       "    </tr>\n",
       "    <tr>\n",
       "      <th>3</th>\n",
       "      <td>run end</td>\n",
       "      <td>7</td>\n",
       "      <td>4</td>\n",
       "      <td>3</td>\n",
       "      <td>4</td>\n",
       "      <td>1</td>\n",
       "      <td>1</td>\n",
       "      <td>10</td>\n",
       "      <td>56</td>\n",
       "    </tr>\n",
       "    <tr>\n",
       "      <th>4</th>\n",
       "      <td>pass short left</td>\n",
       "      <td>5</td>\n",
       "      <td>4</td>\n",
       "      <td>1</td>\n",
       "      <td>6</td>\n",
       "      <td>1</td>\n",
       "      <td>3</td>\n",
       "      <td>12</td>\n",
       "      <td>58</td>\n",
       "    </tr>\n",
       "    <tr>\n",
       "      <th>5</th>\n",
       "      <td>run end</td>\n",
       "      <td>6</td>\n",
       "      <td>3</td>\n",
       "      <td>4</td>\n",
       "      <td>4</td>\n",
       "      <td>1</td>\n",
       "      <td>1</td>\n",
       "      <td>10</td>\n",
       "      <td>26</td>\n",
       "    </tr>\n",
       "    <tr>\n",
       "      <th>6</th>\n",
       "      <td>pass short middle</td>\n",
       "      <td>6</td>\n",
       "      <td>2</td>\n",
       "      <td>4</td>\n",
       "      <td>5</td>\n",
       "      <td>1</td>\n",
       "      <td>2</td>\n",
       "      <td>5</td>\n",
       "      <td>21</td>\n",
       "    </tr>\n",
       "    <tr>\n",
       "      <th>7</th>\n",
       "      <td>run end</td>\n",
       "      <td>7</td>\n",
       "      <td>2</td>\n",
       "      <td>4</td>\n",
       "      <td>5</td>\n",
       "      <td>1</td>\n",
       "      <td>1</td>\n",
       "      <td>10</td>\n",
       "      <td>85</td>\n",
       "    </tr>\n",
       "    <tr>\n",
       "      <th>8</th>\n",
       "      <td>pass short right</td>\n",
       "      <td>5</td>\n",
       "      <td>3</td>\n",
       "      <td>3</td>\n",
       "      <td>5</td>\n",
       "      <td>1</td>\n",
       "      <td>2</td>\n",
       "      <td>10</td>\n",
       "      <td>85</td>\n",
       "    </tr>\n",
       "    <tr>\n",
       "      <th>9</th>\n",
       "      <td>pass deep right</td>\n",
       "      <td>4</td>\n",
       "      <td>1</td>\n",
       "      <td>3</td>\n",
       "      <td>7</td>\n",
       "      <td>1</td>\n",
       "      <td>3</td>\n",
       "      <td>8</td>\n",
       "      <td>83</td>\n",
       "    </tr>\n",
       "  </tbody>\n",
       "</table>\n",
       "</div>"
      ],
      "text/plain": [
       "      classification  defendersInTheBox  DL  LB  DB  quarter  down.x  \\\n",
       "0   pass short right                  6   4   2   5        1       1   \n",
       "1         run middle                  6   4   2   5        1       2   \n",
       "2  pass short middle                  5   4   1   6        1       3   \n",
       "3            run end                  7   4   3   4        1       1   \n",
       "4    pass short left                  5   4   1   6        1       3   \n",
       "5            run end                  6   3   4   4        1       1   \n",
       "6  pass short middle                  6   2   4   5        1       2   \n",
       "7            run end                  7   2   4   5        1       1   \n",
       "8   pass short right                  5   3   3   5        1       2   \n",
       "9    pass deep right                  4   1   3   7        1       3   \n",
       "\n",
       "   yardsToGo  yardline_100  \n",
       "0         10            77  \n",
       "1          6            73  \n",
       "2          4            71  \n",
       "3         10            56  \n",
       "4         12            58  \n",
       "5         10            26  \n",
       "6          5            21  \n",
       "7         10            85  \n",
       "8         10            85  \n",
       "9          8            83  "
      ]
     },
     "execution_count": 2,
     "metadata": {},
     "output_type": "execute_result"
    }
   ],
   "source": [
    "df = pd.read_csv('Model Data.csv')[['classification', 'defendersInTheBox', 'DL', 'LB', 'DB', 'quarter', 'down.x', 'yardsToGo', 'yardline_100']].reset_index(drop = True)\n",
    "\n",
    "df.head(10)"
   ]
  },
  {
   "cell_type": "code",
   "execution_count": 3,
   "metadata": {},
   "outputs": [],
   "source": [
    "#split data into testing and training\n",
    "#split model data into test and training sets\n",
    "train, test = train_test_split(df, test_size = .25, stratify = df.classification, random_state = 801)\n",
    "\n",
    "#split into x's and y's\n",
    "x_train = train.drop('classification', axis = 1)\n",
    "x_test = test.drop('classification', axis = 1)\n",
    "y_train = train['classification']\n",
    "y_test = test['classification']"
   ]
  },
  {
   "cell_type": "code",
   "execution_count": 4,
   "metadata": {},
   "outputs": [],
   "source": [
    "#fit initial gradient boosting model\n",
    "gb = GradientBoostingClassifier(max_depth = 3)\n",
    "gb.fit(x_train, y_train)\n",
    "yhat_gb = (gb.predict(x_test))"
   ]
  },
  {
   "cell_type": "code",
   "execution_count": 5,
   "metadata": {},
   "outputs": [
    {
     "name": "stdout",
     "output_type": "stream",
     "text": [
      "Gradient Boosting:\n",
      "Accuracy: 0.2043906131718395\n"
     ]
    }
   ],
   "source": [
    "#Validating metric:\n",
    "print('Gradient Boosting:')\n",
    "print('Accuracy:', accuracy_score(y_test, yhat_gb))"
   ]
  },
  {
   "cell_type": "code",
   "execution_count": 22,
   "metadata": {},
   "outputs": [
    {
     "name": "stdout",
     "output_type": "stream",
     "text": [
      "{'max_depth': 3}\n"
     ]
    }
   ],
   "source": [
    "parameters = {'max_depth':list(range(1, 15, 1))}\n",
    "gb_par = GradientBoostingClassifier()\n",
    "\n",
    "# *** comment out below lines so it does not need to run every time I restart the Kernel\n",
    "\n",
    "#param_gb = GridSearchCV(gb_par, parameters)\n",
    "#param_gb.fit(x_train, y_train)\n",
    "\n",
    "#print out optimal parameter\n",
    "#print(param_gb.best_params_)\n",
    "\n",
    "#optimal max_depth is 3"
   ]
  },
  {
   "cell_type": "code",
   "execution_count": 23,
   "metadata": {},
   "outputs": [],
   "source": [
    "#fit initial random forest model\n",
    "rf = RandomForestClassifier()\n",
    "rf.fit(x_train, y_train)\n",
    "yhat_rf = (rf.predict(x_test))"
   ]
  },
  {
   "cell_type": "code",
   "execution_count": 24,
   "metadata": {},
   "outputs": [
    {
     "name": "stdout",
     "output_type": "stream",
     "text": [
      "Gradient Boosting:\n",
      "Accuracy: 0.1684330052990159\n"
     ]
    }
   ],
   "source": [
    "#Validating metric:\n",
    "print('Gradient Boosting:')\n",
    "print('Accuracy:', accuracy_score(y_test, yhat_rf))"
   ]
  },
  {
   "cell_type": "code",
   "execution_count": 6,
   "metadata": {},
   "outputs": [
    {
     "name": "stderr",
     "output_type": "stream",
     "text": [
      "C:\\Users\\nathd\\anaconda3\\lib\\site-packages\\IPython\\core\\interactiveshell.py:3071: DtypeWarning: Columns (211,212,214,215,250,251,252,285,286,287,292,294,295) have mixed types.Specify dtype option on import or set low_memory=False.\n",
      "  has_raised = await self.run_ast_nodes(code_ast.body, cell_name,\n"
     ]
    }
   ],
   "source": [
    "plays = pd.read_csv('Plays Data.csv', encoding= 'unicode_escape').sort_values(['possessionTeam', 'gameId', 'playId']).reset_index(drop = True)\n",
    "plays.reset_index(inplace = True)"
   ]
  },
  {
   "cell_type": "markdown",
   "metadata": {},
   "source": [
    "# Rolling Offensive EPA"
   ]
  },
  {
   "cell_type": "code",
   "execution_count": 24,
   "metadata": {},
   "outputs": [],
   "source": [
    "rolling_off_epa = pd.DataFrame()\n",
    "for team in plays.possessionTeam.unique():\n",
    "    #initialize temporary variables\n",
    "    temp_team = plays.query('possessionTeam == @team')\n",
    "    temp_play_type = temp_team.play_type.reset_index(drop = True)\n",
    "    temp_epa = temp_team.epa.reset_index(drop = True)\n",
    "    total = 0\n",
    "    average = 0\n",
    "    rolling_avg = list()\n",
    "    run_total = 0\n",
    "    run_average = 0\n",
    "    run_rolling_avg = list()\n",
    "    pass_total = 0\n",
    "    pass_average = 0\n",
    "    pass_rolling_avg = list()\n",
    "    #get the rolling average for each team and play_type\n",
    "    for i in range(0, len(temp_team)):\n",
    "        if temp_play_type[i] == \"run\":\n",
    "            #update runs on run plays\n",
    "            run_total = run_total + temp_epa[i]\n",
    "            run_average = run_total / (i + 1)\n",
    "            run_rolling_avg.append(run_average)\n",
    "            #update passes on run plays\n",
    "            pass_rolling_avg.append(pass_average)\n",
    "        elif temp_play_type[i] == \"pass\":\n",
    "            #update pass on pass plays\n",
    "            pass_total = pass_total + temp_epa[i]\n",
    "            pass_average = pass_total / (i + 1)\n",
    "            pass_rolling_avg.append(pass_average)\n",
    "            #update runs on pass plays\n",
    "            run_rolling_avg.append(run_average)\n",
    "        else:\n",
    "            #update runs and passes on weird plays\n",
    "            pass_rolling_avg.append(pass_average)\n",
    "            run_rolling_avg.append(run_average)\n",
    "        #update overall rolling epa\n",
    "        total = total + temp_epa[i]\n",
    "        average = total / (i + 1)\n",
    "        rolling_avg.append(average)\n",
    "            \n",
    "    #add rolling average to dataframe\n",
    "    rolling_off_epa = rolling_off_epa.append(pd.DataFrame({\"ind\" : temp_team.index, \n",
    "                                                           \"rolling_pass_off_epa\" : pass_rolling_avg,\n",
    "                                                           \"rolling_run_off_epa\" : run_rolling_avg}))\n",
    "    "
   ]
  },
  {
   "cell_type": "markdown",
   "metadata": {},
   "source": [
    "# Rolling Defensive EPA"
   ]
  },
  {
   "cell_type": "code",
   "execution_count": 40,
   "metadata": {},
   "outputs": [],
   "source": [
    "defense_sorted = plays.sort_values(['possessionTeam', 'gameId', 'playId']).reset_index(drop = True)\n",
    "defense_sorted.reset_index(inplace = True)\n",
    "rolling_def_epa = pd.DataFrame()\n",
    "for team in defense_sorted.defteam.unique():\n",
    "    #initialize temporary variables\n",
    "    temp_team = defense_sorted.query('defteam == @team')\n",
    "    temp_play_type = temp_team.play_type.reset_index(drop = True)\n",
    "    temp_epa = temp_team.epa.reset_index(drop = True)\n",
    "    total = 0\n",
    "    average = 0\n",
    "    rolling_avg = list()\n",
    "    run_total = 0\n",
    "    run_average = 0\n",
    "    run_rolling_avg = list()\n",
    "    pass_total = 0\n",
    "    pass_average = 0\n",
    "    pass_rolling_avg = list()\n",
    "    #get the rolling average for each team and play_type\n",
    "    for i in range(0, len(temp_team)):\n",
    "        if temp_play_type[i] == \"run\":\n",
    "            #update runs on run plays\n",
    "            run_total = run_total + temp_epa[i]\n",
    "            run_average = run_total / (i + 1)\n",
    "            run_rolling_avg.append(run_average)\n",
    "            #update passes on run plays\n",
    "            pass_rolling_avg.append(pass_average)\n",
    "        elif temp_play_type[i] == \"pass\":\n",
    "            #update pass on pass plays\n",
    "            pass_total = pass_total + temp_epa[i]\n",
    "            pass_average = pass_total / (i + 1)\n",
    "            pass_rolling_avg.append(pass_average)\n",
    "            #update runs on pass plays\n",
    "            run_rolling_avg.append(run_average)\n",
    "        else:\n",
    "            #update runs and passes on weird plays\n",
    "            pass_rolling_avg.append(pass_average)\n",
    "            run_rolling_avg.append(run_average)\n",
    "        #update overall rolling epa\n",
    "        total = total + temp_epa[i]\n",
    "        average = total / (i + 1)\n",
    "        rolling_avg.append(average)\n",
    "            \n",
    "    #add rolling average to dataframe\n",
    "    rolling_def_epa = rolling_def_epa.append(pd.DataFrame({\"ind\" : temp_team.index, \n",
    "                                                           \"rolling_pass_def_epa\" : pass_rolling_avg,\n",
    "                                                           \"rolling_run_def_epa\" : run_rolling_avg}))"
   ]
  },
  {
   "cell_type": "code",
   "execution_count": 41,
   "metadata": {},
   "outputs": [],
   "source": [
    "#merge rolling defensive epa\n",
    "def_merged = plays.merge(rolling_def_epa, how = 'left', left_on = 'index', right_on = 'ind')\n",
    "\n",
    "#merge rolling offensive epa\n",
    "merged = def_merged.merge(rolling_off_epa, how = 'left', left_on = 'ind', right_on = 'ind')"
   ]
  },
  {
   "cell_type": "code",
   "execution_count": 47,
   "metadata": {},
   "outputs": [],
   "source": [
    "final_merged = merged[['gameId', 'playId', 'rolling_pass_def_epa', 'rolling_run_def_epa', 'rolling_pass_off_epa', 'rolling_run_off_epa']]"
   ]
  },
  {
   "cell_type": "code",
   "execution_count": 48,
   "metadata": {},
   "outputs": [],
   "source": [
    "#export merged data\n",
    "final_merged.to_csv('rolling epa per play.csv')"
   ]
  },
  {
   "cell_type": "code",
   "execution_count": null,
   "metadata": {},
   "outputs": [],
   "source": []
  },
  {
   "cell_type": "code",
   "execution_count": null,
   "metadata": {},
   "outputs": [],
   "source": []
  },
  {
   "cell_type": "code",
   "execution_count": null,
   "metadata": {},
   "outputs": [],
   "source": []
  },
  {
   "cell_type": "code",
   "execution_count": null,
   "metadata": {},
   "outputs": [],
   "source": []
  },
  {
   "cell_type": "code",
   "execution_count": null,
   "metadata": {},
   "outputs": [],
   "source": []
  },
  {
   "cell_type": "code",
   "execution_count": null,
   "metadata": {},
   "outputs": [],
   "source": []
  },
  {
   "cell_type": "code",
   "execution_count": null,
   "metadata": {},
   "outputs": [],
   "source": []
  }
 ],
 "metadata": {
  "kernelspec": {
   "display_name": "Python 3",
   "language": "python",
   "name": "python3"
  },
  "language_info": {
   "codemirror_mode": {
    "name": "ipython",
    "version": 3
   },
   "file_extension": ".py",
   "mimetype": "text/x-python",
   "name": "python",
   "nbconvert_exporter": "python",
   "pygments_lexer": "ipython3",
   "version": "3.8.3"
  }
 },
 "nbformat": 4,
 "nbformat_minor": 4
}
